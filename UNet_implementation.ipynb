{
 "cells": [
  {
   "cell_type": "code",
   "execution_count": 1,
   "id": "62bd00b8-afa1-4b50-a9f0-4f5e5b63b567",
   "metadata": {},
   "outputs": [],
   "source": [
    "import torch\n",
    "from torch import nn\n",
    "from torchsummary import summary"
   ]
  },
  {
   "cell_type": "code",
   "execution_count": 2,
   "id": "ca35f499-e79f-4d69-8f1f-e671e6e77947",
   "metadata": {},
   "outputs": [],
   "source": [
    "class ConvBlock(nn.Module):\n",
    "    def __init__(self, in_filters, out_filters):\n",
    "        super().__init__()\n",
    "        self.conv1 = nn.Conv2d(in_filters, out_filters, kernel_size=3, padding=1)\n",
    "        self.conv2 = nn.Conv2d(out_filters, out_filters, kernel_size=3, padding=1)\n",
    "\n",
    "        self.bn1 = nn.BatchNorm2d(out_filters)\n",
    "        self.bn2 = nn.BatchNorm2d(out_filters)\n",
    "\n",
    "        self.relu = nn.ReLU()\n",
    "\n",
    "    def forward(self, x):\n",
    "        x = self.conv1(x)\n",
    "        x = self.bn1(x)\n",
    "        x = self.relu(x)\n",
    "        \n",
    "        x = self.conv2(x)\n",
    "        x = self.bn2(x)\n",
    "        x = self.relu(x)\n",
    "        return x"
   ]
  },
  {
   "cell_type": "code",
   "execution_count": 3,
   "id": "792238bd-eb28-4077-beac-2686b572be04",
   "metadata": {},
   "outputs": [
    {
     "name": "stdout",
     "output_type": "stream",
     "text": [
      "----------------------------------------------------------------\n",
      "        Layer (type)               Output Shape         Param #\n",
      "================================================================\n",
      "            Conv2d-1         [-1, 32, 512, 512]           4,640\n",
      "       BatchNorm2d-2         [-1, 32, 512, 512]              64\n",
      "              ReLU-3         [-1, 32, 512, 512]               0\n",
      "            Conv2d-4         [-1, 32, 512, 512]           9,248\n",
      "       BatchNorm2d-5         [-1, 32, 512, 512]              64\n",
      "              ReLU-6         [-1, 32, 512, 512]               0\n",
      "================================================================\n",
      "Total params: 14,016\n",
      "Trainable params: 14,016\n",
      "Non-trainable params: 0\n",
      "----------------------------------------------------------------\n",
      "Input size (MB): 16.00\n",
      "Forward/backward pass size (MB): 384.00\n",
      "Params size (MB): 0.05\n",
      "Estimated Total Size (MB): 400.05\n",
      "----------------------------------------------------------------\n"
     ]
    }
   ],
   "source": [
    "test1 = ConvBlock(16, 32)\n",
    "summary(test1, (16, 512, 512))"
   ]
  },
  {
   "cell_type": "code",
   "execution_count": 4,
   "id": "99140e1a-4736-4996-b008-97d5db86d9e9",
   "metadata": {},
   "outputs": [],
   "source": [
    "class EncoderBlock(nn.Module):\n",
    "    def __init__(self, in_filters, out_filters):\n",
    "        super().__init__()\n",
    "\n",
    "        self.convBlk = ConvBlock(in_filters, out_filters)\n",
    "        self.pool = nn.MaxPool2d(2)\n",
    "\n",
    "    def forward(self, x):\n",
    "        x = self.convBlk(x)\n",
    "        p = self.pool(x)\n",
    "        return x, p"
   ]
  },
  {
   "cell_type": "code",
   "execution_count": 5,
   "id": "75de8924-e665-4455-b0dc-25cf5d98bfd6",
   "metadata": {},
   "outputs": [
    {
     "name": "stdout",
     "output_type": "stream",
     "text": [
      "----------------------------------------------------------------\n",
      "        Layer (type)               Output Shape         Param #\n",
      "================================================================\n",
      "            Conv2d-1         [-1, 32, 512, 512]          18,464\n",
      "       BatchNorm2d-2         [-1, 32, 512, 512]              64\n",
      "              ReLU-3         [-1, 32, 512, 512]               0\n",
      "            Conv2d-4         [-1, 32, 512, 512]           9,248\n",
      "       BatchNorm2d-5         [-1, 32, 512, 512]              64\n",
      "              ReLU-6         [-1, 32, 512, 512]               0\n",
      "         ConvBlock-7         [-1, 32, 512, 512]               0\n",
      "         MaxPool2d-8         [-1, 32, 256, 256]               0\n",
      "================================================================\n",
      "Total params: 27,840\n",
      "Trainable params: 27,840\n",
      "Non-trainable params: 0\n",
      "----------------------------------------------------------------\n",
      "Input size (MB): 64.00\n",
      "Forward/backward pass size (MB): 464.00\n",
      "Params size (MB): 0.11\n",
      "Estimated Total Size (MB): 528.11\n",
      "----------------------------------------------------------------\n"
     ]
    }
   ],
   "source": [
    "test2 = EncoderBlock(64, 32)\n",
    "summary(test2, (64, 512, 512))"
   ]
  },
  {
   "cell_type": "code",
   "execution_count": 6,
   "id": "6d1200b8-1463-4ae9-bd37-d8fe415da660",
   "metadata": {},
   "outputs": [],
   "source": [
    "class DecoderBlock(nn.Module):\n",
    "    def __init__(self, in_filters, out_filters):\n",
    "        super().__init__()\n",
    "        self.transposeConv = nn.ConvTranspose2d(in_filters, out_filters, kernel_size=2, stride=2)\n",
    "        self.convBlk = ConvBlock(in_filters, out_filters)\n",
    "        \n",
    "    def forward(self, x, skip):\n",
    "        x = self.transposeConv(x)\n",
    "        x = torch.cat([x, skip], dim=1)\n",
    "        x = self.convBlk(x)\n",
    "        \n",
    "        return x"
   ]
  },
  {
   "cell_type": "code",
   "execution_count": 7,
   "id": "487ec21c-2354-4f3e-ac96-ffda03ee5a81",
   "metadata": {},
   "outputs": [
    {
     "name": "stdout",
     "output_type": "stream",
     "text": [
      "----------------------------------------------------------------\n",
      "        Layer (type)               Output Shape         Param #\n",
      "================================================================\n",
      "   ConvTranspose2d-1           [-1, 32, 32, 32]           8,224\n",
      "            Conv2d-2           [-1, 32, 32, 32]          18,464\n",
      "       BatchNorm2d-3           [-1, 32, 32, 32]              64\n",
      "              ReLU-4           [-1, 32, 32, 32]               0\n",
      "            Conv2d-5           [-1, 32, 32, 32]           9,248\n",
      "       BatchNorm2d-6           [-1, 32, 32, 32]              64\n",
      "              ReLU-7           [-1, 32, 32, 32]               0\n",
      "         ConvBlock-8           [-1, 32, 32, 32]               0\n",
      "================================================================\n",
      "Total params: 36,064\n",
      "Trainable params: 36,064\n",
      "Non-trainable params: 0\n",
      "----------------------------------------------------------------\n",
      "Input size (MB): 2048.00\n",
      "Forward/backward pass size (MB): 2.00\n",
      "Params size (MB): 0.14\n",
      "Estimated Total Size (MB): 2050.14\n",
      "----------------------------------------------------------------\n"
     ]
    }
   ],
   "source": [
    "test3 = DecoderBlock(64, 32)\n",
    "summary(test3, [(64, 16, 16), (32, 32, 32)])"
   ]
  },
  {
   "cell_type": "code",
   "execution_count": 19,
   "id": "a57fad22-d4e7-4f3f-8ad0-f0a7b614f49c",
   "metadata": {},
   "outputs": [],
   "source": [
    "class DobyUNet(nn.Module):\n",
    "    def __init__(self):\n",
    "        super().__init__()\n",
    "\n",
    "        # Constracting Path\n",
    "        self.e1 = EncoderBlock(1, 64)\n",
    "        self.e2 = EncoderBlock(64, 128)\n",
    "        self.e3 = EncoderBlock(128, 256)\n",
    "        self.e4 = EncoderBlock(256, 512)\n",
    "\n",
    "        # Bridge\n",
    "        self.b = ConvBlock(512, 1024)\n",
    "\n",
    "        # Expanding Path\n",
    "        self.d1 = DecoderBlock(1024, 512)\n",
    "        self.d2 = DecoderBlock(512, 256)\n",
    "        self.d3 = DecoderBlock(256, 128)\n",
    "        self.d4 = DecoderBlock(128, 64)\n",
    "\n",
    "        self.convOut = nn.Conv2d(64, 1, kernel_size=1, stride=1)\n",
    "\n",
    "    def forward(self, x):\n",
    "        s1, p1 = self.e1(x)\n",
    "        s2, p2 = self.e2(p1)\n",
    "        s3, p3 = self.e3(p2)\n",
    "        s4, p4 = self.e4(p3)\n",
    "        \n",
    "        b = self.b(p4)\n",
    "        d1 = self.d1(b, s4)\n",
    "        d2 = self.d2(d1, s3)\n",
    "        d3 = self.d3(d2, s2)\n",
    "        d4 = self.d4(d3, s1)\n",
    "\n",
    "        output = self.convOut(d4)\n",
    "        \n",
    "        return output"
   ]
  },
  {
   "cell_type": "code",
   "execution_count": 20,
   "id": "9e90cafa-a55c-424d-b813-93119970fc24",
   "metadata": {},
   "outputs": [],
   "source": [
    "model = DobyUNet()"
   ]
  },
  {
   "cell_type": "code",
   "execution_count": 21,
   "id": "7858fe78-fa00-4561-bd2f-634248790977",
   "metadata": {},
   "outputs": [
    {
     "name": "stdout",
     "output_type": "stream",
     "text": [
      "----------------------------------------------------------------\n",
      "        Layer (type)               Output Shape         Param #\n",
      "================================================================\n",
      "            Conv2d-1         [-1, 64, 512, 512]             640\n",
      "       BatchNorm2d-2         [-1, 64, 512, 512]             128\n",
      "              ReLU-3         [-1, 64, 512, 512]               0\n",
      "            Conv2d-4         [-1, 64, 512, 512]          36,928\n",
      "       BatchNorm2d-5         [-1, 64, 512, 512]             128\n",
      "              ReLU-6         [-1, 64, 512, 512]               0\n",
      "         ConvBlock-7         [-1, 64, 512, 512]               0\n",
      "         MaxPool2d-8         [-1, 64, 256, 256]               0\n",
      "      EncoderBlock-9  [[-1, 64, 512, 512], [-1, 64, 256, 256]]               0\n",
      "           Conv2d-10        [-1, 128, 256, 256]          73,856\n",
      "      BatchNorm2d-11        [-1, 128, 256, 256]             256\n",
      "             ReLU-12        [-1, 128, 256, 256]               0\n",
      "           Conv2d-13        [-1, 128, 256, 256]         147,584\n",
      "      BatchNorm2d-14        [-1, 128, 256, 256]             256\n",
      "             ReLU-15        [-1, 128, 256, 256]               0\n",
      "        ConvBlock-16        [-1, 128, 256, 256]               0\n",
      "        MaxPool2d-17        [-1, 128, 128, 128]               0\n",
      "     EncoderBlock-18  [[-1, 128, 256, 256], [-1, 128, 128, 128]]               0\n",
      "           Conv2d-19        [-1, 256, 128, 128]         295,168\n",
      "      BatchNorm2d-20        [-1, 256, 128, 128]             512\n",
      "             ReLU-21        [-1, 256, 128, 128]               0\n",
      "           Conv2d-22        [-1, 256, 128, 128]         590,080\n",
      "      BatchNorm2d-23        [-1, 256, 128, 128]             512\n",
      "             ReLU-24        [-1, 256, 128, 128]               0\n",
      "        ConvBlock-25        [-1, 256, 128, 128]               0\n",
      "        MaxPool2d-26          [-1, 256, 64, 64]               0\n",
      "     EncoderBlock-27  [[-1, 256, 128, 128], [-1, 256, 64, 64]]               0\n",
      "           Conv2d-28          [-1, 512, 64, 64]       1,180,160\n",
      "      BatchNorm2d-29          [-1, 512, 64, 64]           1,024\n",
      "             ReLU-30          [-1, 512, 64, 64]               0\n",
      "           Conv2d-31          [-1, 512, 64, 64]       2,359,808\n",
      "      BatchNorm2d-32          [-1, 512, 64, 64]           1,024\n",
      "             ReLU-33          [-1, 512, 64, 64]               0\n",
      "        ConvBlock-34          [-1, 512, 64, 64]               0\n",
      "        MaxPool2d-35          [-1, 512, 32, 32]               0\n",
      "     EncoderBlock-36  [[-1, 512, 64, 64], [-1, 512, 32, 32]]               0\n",
      "           Conv2d-37         [-1, 1024, 32, 32]       4,719,616\n",
      "      BatchNorm2d-38         [-1, 1024, 32, 32]           2,048\n",
      "             ReLU-39         [-1, 1024, 32, 32]               0\n",
      "           Conv2d-40         [-1, 1024, 32, 32]       9,438,208\n",
      "      BatchNorm2d-41         [-1, 1024, 32, 32]           2,048\n",
      "             ReLU-42         [-1, 1024, 32, 32]               0\n",
      "        ConvBlock-43         [-1, 1024, 32, 32]               0\n",
      "  ConvTranspose2d-44          [-1, 512, 64, 64]       2,097,664\n",
      "           Conv2d-45          [-1, 512, 64, 64]       4,719,104\n",
      "      BatchNorm2d-46          [-1, 512, 64, 64]           1,024\n",
      "             ReLU-47          [-1, 512, 64, 64]               0\n",
      "           Conv2d-48          [-1, 512, 64, 64]       2,359,808\n",
      "      BatchNorm2d-49          [-1, 512, 64, 64]           1,024\n",
      "             ReLU-50          [-1, 512, 64, 64]               0\n",
      "        ConvBlock-51          [-1, 512, 64, 64]               0\n",
      "     DecoderBlock-52          [-1, 512, 64, 64]               0\n",
      "  ConvTranspose2d-53        [-1, 256, 128, 128]         524,544\n",
      "           Conv2d-54        [-1, 256, 128, 128]       1,179,904\n",
      "      BatchNorm2d-55        [-1, 256, 128, 128]             512\n",
      "             ReLU-56        [-1, 256, 128, 128]               0\n",
      "           Conv2d-57        [-1, 256, 128, 128]         590,080\n",
      "      BatchNorm2d-58        [-1, 256, 128, 128]             512\n",
      "             ReLU-59        [-1, 256, 128, 128]               0\n",
      "        ConvBlock-60        [-1, 256, 128, 128]               0\n",
      "     DecoderBlock-61        [-1, 256, 128, 128]               0\n",
      "  ConvTranspose2d-62        [-1, 128, 256, 256]         131,200\n",
      "           Conv2d-63        [-1, 128, 256, 256]         295,040\n",
      "      BatchNorm2d-64        [-1, 128, 256, 256]             256\n",
      "             ReLU-65        [-1, 128, 256, 256]               0\n",
      "           Conv2d-66        [-1, 128, 256, 256]         147,584\n",
      "      BatchNorm2d-67        [-1, 128, 256, 256]             256\n",
      "             ReLU-68        [-1, 128, 256, 256]               0\n",
      "        ConvBlock-69        [-1, 128, 256, 256]               0\n",
      "     DecoderBlock-70        [-1, 128, 256, 256]               0\n",
      "  ConvTranspose2d-71         [-1, 64, 512, 512]          32,832\n",
      "           Conv2d-72         [-1, 64, 512, 512]          73,792\n",
      "      BatchNorm2d-73         [-1, 64, 512, 512]             128\n",
      "             ReLU-74         [-1, 64, 512, 512]               0\n",
      "           Conv2d-75         [-1, 64, 512, 512]          36,928\n",
      "      BatchNorm2d-76         [-1, 64, 512, 512]             128\n",
      "             ReLU-77         [-1, 64, 512, 512]               0\n",
      "        ConvBlock-78         [-1, 64, 512, 512]               0\n",
      "     DecoderBlock-79         [-1, 64, 512, 512]               0\n",
      "           Conv2d-80          [-1, 1, 512, 512]              65\n",
      "================================================================\n",
      "Total params: 31,042,369\n",
      "Trainable params: 31,042,369\n",
      "Non-trainable params: 0\n",
      "----------------------------------------------------------------\n",
      "Input size (MB): 1.00\n",
      "Forward/backward pass size (MB): 3958.00\n",
      "Params size (MB): 118.42\n",
      "Estimated Total Size (MB): 4077.42\n",
      "----------------------------------------------------------------\n"
     ]
    }
   ],
   "source": [
    "summary(model, (1, 512, 512))"
   ]
  },
  {
   "cell_type": "code",
   "execution_count": 23,
   "id": "04c6701e-43ad-433c-bd8c-3003f5ebcd51",
   "metadata": {},
   "outputs": [],
   "source": [
    "SAVE_PATH = './DobyUnet.pth'\n",
    "torch.save(model, SAVE_PATH)"
   ]
  }
 ],
 "metadata": {
  "kernelspec": {
   "display_name": "Python 3 (ipykernel)",
   "language": "python",
   "name": "python3"
  },
  "language_info": {
   "codemirror_mode": {
    "name": "ipython",
    "version": 3
   },
   "file_extension": ".py",
   "mimetype": "text/x-python",
   "name": "python",
   "nbconvert_exporter": "python",
   "pygments_lexer": "ipython3",
   "version": "3.10.9"
  }
 },
 "nbformat": 4,
 "nbformat_minor": 5
}
