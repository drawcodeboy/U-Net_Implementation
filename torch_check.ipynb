{
 "cells": [
  {
   "cell_type": "code",
   "execution_count": 1,
   "id": "34ff717d-1ded-47a1-a97c-eb1f6cb987d2",
   "metadata": {
    "tags": []
   },
   "outputs": [],
   "source": [
    "import torch"
   ]
  },
  {
   "cell_type": "code",
   "execution_count": 2,
   "id": "9587efa7-ca89-4aa9-9261-2cb20a00bdd6",
   "metadata": {
    "tags": []
   },
   "outputs": [
    {
     "name": "stdout",
     "output_type": "stream",
     "text": [
      "2.1.0\n",
      "True\n",
      "12.1\n",
      "1\n",
      "NVIDIA GeForce RTX 2070 SUPER\n"
     ]
    }
   ],
   "source": [
    "# Torch 버전\n",
    "print(torch.__version__)\n",
    " \n",
    "# CUDA 사용 가능여부(True, False)\n",
    "print(torch.cuda.is_available())\n",
    " \n",
    "# CUDA 버전\n",
    "print(torch.version.cuda)\n",
    " \n",
    "# GPU 사용가능 개수\n",
    "print(torch.cuda.device_count())\n",
    " \n",
    "# GPU 이름\n",
    "print(torch.cuda.get_device_name(0))"
   ]
  }
 ],
 "metadata": {
  "kernelspec": {
   "display_name": "Python 3 (ipykernel)",
   "language": "python",
   "name": "python3"
  },
  "language_info": {
   "codemirror_mode": {
    "name": "ipython",
    "version": 3
   },
   "file_extension": ".py",
   "mimetype": "text/x-python",
   "name": "python",
   "nbconvert_exporter": "python",
   "pygments_lexer": "ipython3",
   "version": "3.10.9"
  }
 },
 "nbformat": 4,
 "nbformat_minor": 5
}
