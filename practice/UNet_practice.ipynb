{
 "cells": [
  {
   "cell_type": "markdown",
   "id": "053c8d5c-7bbf-45e4-8a5f-44dbc9b0662a",
   "metadata": {},
   "source": [
    "# <a href=\"https://pasus.tistory.com/204\">U-Net Implementation in TF</a>\n",
    "* Tensorflow로 구현되어있는 U-Net PyTorch로 구현해보기\n",
    "* 목표: 완전히 이해하면서 구현하기\n",
    "* Biomedical Image Dataset Segmentation까지가 목표\n",
    "* * * \n",
    "* <a href=\"https://dotiromoook.tistory.com/14\"><code>Conv2d</code> 사용법</a>  \n",
    "* <a href=\"https://ban2aru.tistory.com/35\"><code>BatchNorm2d</code> 사용법</a>\n",
    "* * * \n",
    "* 모델 구조 시각화 방법 좀 더 찾아보자"
   ]
  },
  {
   "cell_type": "code",
   "execution_count": 1,
   "id": "997e68f9-83e4-404f-a5dc-18473147aef4",
   "metadata": {},
   "outputs": [],
   "source": [
    "import torch\n",
    "from torch import nn\n",
    "from torchsummary import summary"
   ]
  },
  {
   "cell_type": "markdown",
   "id": "cb378b9b-15a7-4c34-8b2c-f1a4b360bd51",
   "metadata": {},
   "source": [
    "# ConvBlock Implementation"
   ]
  },
  {
   "cell_type": "code",
   "execution_count": 2,
   "id": "9f935e8a-5dd6-4c4f-b89d-f47955008ba8",
   "metadata": {},
   "outputs": [],
   "source": [
    "class ConvBlock(nn.Module):\n",
    "    def __init__(self, in_filters, out_filters):\n",
    "        super().__init__()\n",
    "\n",
    "        # no padding or same padding\n",
    "        # no padding - pooling 할 때, divide by 2로 가야함\n",
    "        self.conv1 = nn.Conv2d(in_filters, out_filters, padding=1, kernel_size=3)\n",
    "        self.conv2 = nn.Conv2d(out_filters, out_filters, padding=1, kernel_size=3)\n",
    "\n",
    "        self.bn1 = nn.BatchNorm2d(out_filters)\n",
    "        self.bn2 = nn.BatchNorm2d(out_filters)\n",
    "\n",
    "        self.relu = nn.ReLU()\n",
    "\n",
    "    def forward(self, x):\n",
    "        x = self.conv1(x)\n",
    "        x = self.bn1(x)\n",
    "        x = self.relu(x)\n",
    "\n",
    "        x = self.conv2(x)\n",
    "        x = self.bn2(x)\n",
    "        x = self.relu(x)\n",
    "\n",
    "        return x"
   ]
  },
  {
   "cell_type": "code",
   "execution_count": 3,
   "id": "2d4f0cf0-d70b-4550-bc9a-2690de91a784",
   "metadata": {},
   "outputs": [
    {
     "name": "stdout",
     "output_type": "stream",
     "text": [
      "----------------------------------------------------------------\n",
      "        Layer (type)               Output Shape         Param #\n",
      "================================================================\n",
      "            Conv2d-1         [-1, 64, 512, 512]           1,792\n",
      "       BatchNorm2d-2         [-1, 64, 512, 512]             128\n",
      "              ReLU-3         [-1, 64, 512, 512]               0\n",
      "            Conv2d-4         [-1, 64, 512, 512]          36,928\n",
      "       BatchNorm2d-5         [-1, 64, 512, 512]             128\n",
      "              ReLU-6         [-1, 64, 512, 512]               0\n",
      "================================================================\n",
      "Total params: 38,976\n",
      "Trainable params: 38,976\n",
      "Non-trainable params: 0\n",
      "----------------------------------------------------------------\n",
      "Input size (MB): 3.00\n",
      "Forward/backward pass size (MB): 768.00\n",
      "Params size (MB): 0.15\n",
      "Estimated Total Size (MB): 771.15\n",
      "----------------------------------------------------------------\n"
     ]
    }
   ],
   "source": [
    "convBlock = ConvBlock(3, 64)\n",
    "summary(convBlock, (3, 512, 512))"
   ]
  },
  {
   "cell_type": "markdown",
   "id": "8c0c117a-77c3-47e2-b3a2-8eda7698002d",
   "metadata": {},
   "source": [
    "# Encoder Block"
   ]
  },
  {
   "cell_type": "code",
   "execution_count": 4,
   "id": "b60d89cb-1371-4d95-8c3b-1b8fee19d402",
   "metadata": {},
   "outputs": [],
   "source": [
    "class EncoderBlock(nn.Module):\n",
    "    def __init__(self, in_filters, out_filters):\n",
    "        super().__init__()\n",
    "\n",
    "        self.convBlk = ConvBlock(in_filters, out_filters)\n",
    "        self.down = nn.MaxPool2d(2)\n",
    "\n",
    "    def forward(self, x):\n",
    "        x = self.convBlk(x)\n",
    "        p = self.down(x)\n",
    "        return x, p"
   ]
  },
  {
   "cell_type": "code",
   "execution_count": 5,
   "id": "e630703d-d8fd-44d6-93bb-72442ebcbb52",
   "metadata": {},
   "outputs": [
    {
     "name": "stdout",
     "output_type": "stream",
     "text": [
      "----------------------------------------------------------------\n",
      "        Layer (type)               Output Shape         Param #\n",
      "================================================================\n",
      "            Conv2d-1         [-1, 64, 512, 512]           1,792\n",
      "       BatchNorm2d-2         [-1, 64, 512, 512]             128\n",
      "              ReLU-3         [-1, 64, 512, 512]               0\n",
      "            Conv2d-4         [-1, 64, 512, 512]          36,928\n",
      "       BatchNorm2d-5         [-1, 64, 512, 512]             128\n",
      "              ReLU-6         [-1, 64, 512, 512]               0\n",
      "         ConvBlock-7         [-1, 64, 512, 512]               0\n",
      "         MaxPool2d-8         [-1, 64, 256, 256]               0\n",
      "================================================================\n",
      "Total params: 38,976\n",
      "Trainable params: 38,976\n",
      "Non-trainable params: 0\n",
      "----------------------------------------------------------------\n",
      "Input size (MB): 3.00\n",
      "Forward/backward pass size (MB): 928.00\n",
      "Params size (MB): 0.15\n",
      "Estimated Total Size (MB): 931.15\n",
      "----------------------------------------------------------------\n"
     ]
    }
   ],
   "source": [
    "encoderBlk = EncoderBlock(3, 64)\n",
    "summary(encoderBlk, (3, 512, 512))"
   ]
  },
  {
   "cell_type": "markdown",
   "id": "779ae57c-8667-44e7-9a2d-3f7799a3a39d",
   "metadata": {},
   "source": [
    "# Decoder Block"
   ]
  },
  {
   "cell_type": "code",
   "execution_count": 6,
   "id": "ac6e2728-c99f-4d43-91b3-c836b666d3b6",
   "metadata": {},
   "outputs": [
    {
     "data": {
      "text/plain": [
       "torch.Size([32, 256, 64, 64])"
      ]
     },
     "execution_count": 6,
     "metadata": {},
     "output_type": "execute_result"
    }
   ],
   "source": [
    "TEST_BATCH_SIZE = 32\n",
    "test_1 = torch.randn((TEST_BATCH_SIZE, 128, 64, 64))\n",
    "test_2 = torch.randn((TEST_BATCH_SIZE, 128, 64, 64))\n",
    "test_out = torch.cat([test_1, test_2], dim=1)\n",
    "test_out.shape"
   ]
  },
  {
   "cell_type": "code",
   "execution_count": 7,
   "id": "64b8ec0b-88f5-46d9-abf5-6ec5a609225d",
   "metadata": {},
   "outputs": [],
   "source": [
    "class DecoderBlock(nn.Module):\n",
    "    def __init__(self, in_filters, out_filters):\n",
    "        super().__init__()\n",
    "\n",
    "        # 여긴 padding 안 해야 사이즈 2배 됨.\n",
    "        self.up = nn.ConvTranspose2d(in_filters, out_filters, kernel_size=2, stride=2)\n",
    "        self.convBlk = ConvBlock(in_filters, out_filters)\n",
    "\n",
    "        # up 기준 channel이 512일 때, up이 되면 256이되고,\n",
    "        # skip conncection이 합쳐졌을 때, 다시 512 -> ConvBlock -> 256\n",
    "\n",
    "    def forward(self, x, skip):\n",
    "        x = self.up(x)\n",
    "        # skip connection이랑 upsampling block 순서 상관 없나?\n",
    "        # dim 0 -> batch, dim 1 -> channel\n",
    "        x = torch.cat([x, skip], dim=1) # skip 앞 뒤 순서 애매함\n",
    "        x = self.convBlk(x)\n",
    "\n",
    "        return x"
   ]
  },
  {
   "cell_type": "code",
   "execution_count": 8,
   "id": "91babcfb-5692-4059-ab3c-0aad99c89e0b",
   "metadata": {},
   "outputs": [],
   "source": [
    "decoderBlk = DecoderBlock(128, 64)"
   ]
  },
  {
   "cell_type": "code",
   "execution_count": 9,
   "id": "bbb3266b-8fa3-45d7-855f-a2d836f4e90a",
   "metadata": {},
   "outputs": [
    {
     "name": "stdout",
     "output_type": "stream",
     "text": [
      "----------------------------------------------------------------\n",
      "        Layer (type)               Output Shape         Param #\n",
      "================================================================\n",
      "   ConvTranspose2d-1         [-1, 64, 128, 128]          32,832\n",
      "            Conv2d-2         [-1, 64, 128, 128]          73,792\n",
      "       BatchNorm2d-3         [-1, 64, 128, 128]             128\n",
      "              ReLU-4         [-1, 64, 128, 128]               0\n",
      "            Conv2d-5         [-1, 64, 128, 128]          36,928\n",
      "       BatchNorm2d-6         [-1, 64, 128, 128]             128\n",
      "              ReLU-7         [-1, 64, 128, 128]               0\n",
      "         ConvBlock-8         [-1, 64, 128, 128]               0\n",
      "================================================================\n",
      "Total params: 143,808\n",
      "Trainable params: 143,808\n",
      "Non-trainable params: 0\n",
      "----------------------------------------------------------------\n",
      "Input size (MB): 0.00\n",
      "Forward/backward pass size (MB): 64.00\n",
      "Params size (MB): 0.55\n",
      "Estimated Total Size (MB): 64.55\n",
      "----------------------------------------------------------------\n"
     ]
    }
   ],
   "source": [
    "summary(decoderBlk, [(128, 64, 64), (64, 128, 128)])"
   ]
  },
  {
   "cell_type": "markdown",
   "id": "8c38db4c-29e6-485e-be93-40d7be5a3ec5",
   "metadata": {},
   "source": [
    "# U-Net Implementation"
   ]
  },
  {
   "cell_type": "code",
   "execution_count": 10,
   "id": "0d3e4c57-072f-4c42-8f4f-6f6ec5ef94bc",
   "metadata": {},
   "outputs": [],
   "source": [
    "class DobyUNet(nn.Module):\n",
    "    def __init__(self, n_classes):\n",
    "        super().__init__()\n",
    "\n",
    "        # Encoder\n",
    "        self.e1 = EncoderBlock(3, 64)\n",
    "        self.e2 = EncoderBlock(64, 128)\n",
    "        self.e3 = EncoderBlock(128, 256)\n",
    "        self.e4 = EncoderBlock(256, 512)\n",
    "\n",
    "        # Bridge\n",
    "        self.b = ConvBlock(512, 1024)\n",
    "\n",
    "        # Decoder\n",
    "        self.d1 = DecoderBlock(1024, 512)\n",
    "        self.d2 = DecoderBlock(512, 256)\n",
    "        self.d3 = DecoderBlock(256, 128)\n",
    "        self.d4 = DecoderBlock(128, 64)\n",
    "\n",
    "        if n_classes == 1:\n",
    "            self.output = nn.Sigmoid()\n",
    "        else:\n",
    "            self.output = nn.Softmax()\n",
    "            \n",
    "    def forward(self, x):\n",
    "        s1, p1 = self.e1(x)\n",
    "        s2, p2 = self.e2(p1)\n",
    "        s3, p3 = self.e3(p2)\n",
    "        s4, p4 = self.e4(p3)\n",
    "\n",
    "        b = self.b(p4)\n",
    "\n",
    "        d1 = self.d1(b, s4)\n",
    "        d2 = self.d2(d1, s3)\n",
    "        d3 = self.d3(d2, s2)\n",
    "        d4 = self.d4(d3, s1)\n",
    "\n",
    "        output = self.output(d4)\n",
    "\n",
    "        return output"
   ]
  },
  {
   "cell_type": "code",
   "execution_count": 11,
   "id": "68012b92-f9cd-4cff-92a9-84884588bd06",
   "metadata": {
    "scrolled": true
   },
   "outputs": [
    {
     "name": "stdout",
     "output_type": "stream",
     "text": [
      "DobyUNet(\n",
      "  (e1): EncoderBlock(\n",
      "    (convBlk): ConvBlock(\n",
      "      (conv1): Conv2d(3, 64, kernel_size=(3, 3), stride=(1, 1), padding=(1, 1))\n",
      "      (conv2): Conv2d(64, 64, kernel_size=(3, 3), stride=(1, 1), padding=(1, 1))\n",
      "      (bn1): BatchNorm2d(64, eps=1e-05, momentum=0.1, affine=True, track_running_stats=True)\n",
      "      (bn2): BatchNorm2d(64, eps=1e-05, momentum=0.1, affine=True, track_running_stats=True)\n",
      "      (relu): ReLU()\n",
      "    )\n",
      "    (down): MaxPool2d(kernel_size=2, stride=2, padding=0, dilation=1, ceil_mode=False)\n",
      "  )\n",
      "  (e2): EncoderBlock(\n",
      "    (convBlk): ConvBlock(\n",
      "      (conv1): Conv2d(64, 128, kernel_size=(3, 3), stride=(1, 1), padding=(1, 1))\n",
      "      (conv2): Conv2d(128, 128, kernel_size=(3, 3), stride=(1, 1), padding=(1, 1))\n",
      "      (bn1): BatchNorm2d(128, eps=1e-05, momentum=0.1, affine=True, track_running_stats=True)\n",
      "      (bn2): BatchNorm2d(128, eps=1e-05, momentum=0.1, affine=True, track_running_stats=True)\n",
      "      (relu): ReLU()\n",
      "    )\n",
      "    (down): MaxPool2d(kernel_size=2, stride=2, padding=0, dilation=1, ceil_mode=False)\n",
      "  )\n",
      "  (e3): EncoderBlock(\n",
      "    (convBlk): ConvBlock(\n",
      "      (conv1): Conv2d(128, 256, kernel_size=(3, 3), stride=(1, 1), padding=(1, 1))\n",
      "      (conv2): Conv2d(256, 256, kernel_size=(3, 3), stride=(1, 1), padding=(1, 1))\n",
      "      (bn1): BatchNorm2d(256, eps=1e-05, momentum=0.1, affine=True, track_running_stats=True)\n",
      "      (bn2): BatchNorm2d(256, eps=1e-05, momentum=0.1, affine=True, track_running_stats=True)\n",
      "      (relu): ReLU()\n",
      "    )\n",
      "    (down): MaxPool2d(kernel_size=2, stride=2, padding=0, dilation=1, ceil_mode=False)\n",
      "  )\n",
      "  (e4): EncoderBlock(\n",
      "    (convBlk): ConvBlock(\n",
      "      (conv1): Conv2d(256, 512, kernel_size=(3, 3), stride=(1, 1), padding=(1, 1))\n",
      "      (conv2): Conv2d(512, 512, kernel_size=(3, 3), stride=(1, 1), padding=(1, 1))\n",
      "      (bn1): BatchNorm2d(512, eps=1e-05, momentum=0.1, affine=True, track_running_stats=True)\n",
      "      (bn2): BatchNorm2d(512, eps=1e-05, momentum=0.1, affine=True, track_running_stats=True)\n",
      "      (relu): ReLU()\n",
      "    )\n",
      "    (down): MaxPool2d(kernel_size=2, stride=2, padding=0, dilation=1, ceil_mode=False)\n",
      "  )\n",
      "  (b): ConvBlock(\n",
      "    (conv1): Conv2d(512, 1024, kernel_size=(3, 3), stride=(1, 1), padding=(1, 1))\n",
      "    (conv2): Conv2d(1024, 1024, kernel_size=(3, 3), stride=(1, 1), padding=(1, 1))\n",
      "    (bn1): BatchNorm2d(1024, eps=1e-05, momentum=0.1, affine=True, track_running_stats=True)\n",
      "    (bn2): BatchNorm2d(1024, eps=1e-05, momentum=0.1, affine=True, track_running_stats=True)\n",
      "    (relu): ReLU()\n",
      "  )\n",
      "  (d1): DecoderBlock(\n",
      "    (up): ConvTranspose2d(1024, 512, kernel_size=(2, 2), stride=(2, 2))\n",
      "    (convBlk): ConvBlock(\n",
      "      (conv1): Conv2d(1024, 512, kernel_size=(3, 3), stride=(1, 1), padding=(1, 1))\n",
      "      (conv2): Conv2d(512, 512, kernel_size=(3, 3), stride=(1, 1), padding=(1, 1))\n",
      "      (bn1): BatchNorm2d(512, eps=1e-05, momentum=0.1, affine=True, track_running_stats=True)\n",
      "      (bn2): BatchNorm2d(512, eps=1e-05, momentum=0.1, affine=True, track_running_stats=True)\n",
      "      (relu): ReLU()\n",
      "    )\n",
      "  )\n",
      "  (d2): DecoderBlock(\n",
      "    (up): ConvTranspose2d(512, 256, kernel_size=(2, 2), stride=(2, 2))\n",
      "    (convBlk): ConvBlock(\n",
      "      (conv1): Conv2d(512, 256, kernel_size=(3, 3), stride=(1, 1), padding=(1, 1))\n",
      "      (conv2): Conv2d(256, 256, kernel_size=(3, 3), stride=(1, 1), padding=(1, 1))\n",
      "      (bn1): BatchNorm2d(256, eps=1e-05, momentum=0.1, affine=True, track_running_stats=True)\n",
      "      (bn2): BatchNorm2d(256, eps=1e-05, momentum=0.1, affine=True, track_running_stats=True)\n",
      "      (relu): ReLU()\n",
      "    )\n",
      "  )\n",
      "  (d3): DecoderBlock(\n",
      "    (up): ConvTranspose2d(256, 128, kernel_size=(2, 2), stride=(2, 2))\n",
      "    (convBlk): ConvBlock(\n",
      "      (conv1): Conv2d(256, 128, kernel_size=(3, 3), stride=(1, 1), padding=(1, 1))\n",
      "      (conv2): Conv2d(128, 128, kernel_size=(3, 3), stride=(1, 1), padding=(1, 1))\n",
      "      (bn1): BatchNorm2d(128, eps=1e-05, momentum=0.1, affine=True, track_running_stats=True)\n",
      "      (bn2): BatchNorm2d(128, eps=1e-05, momentum=0.1, affine=True, track_running_stats=True)\n",
      "      (relu): ReLU()\n",
      "    )\n",
      "  )\n",
      "  (d4): DecoderBlock(\n",
      "    (up): ConvTranspose2d(128, 64, kernel_size=(2, 2), stride=(2, 2))\n",
      "    (convBlk): ConvBlock(\n",
      "      (conv1): Conv2d(128, 64, kernel_size=(3, 3), stride=(1, 1), padding=(1, 1))\n",
      "      (conv2): Conv2d(64, 64, kernel_size=(3, 3), stride=(1, 1), padding=(1, 1))\n",
      "      (bn1): BatchNorm2d(64, eps=1e-05, momentum=0.1, affine=True, track_running_stats=True)\n",
      "      (bn2): BatchNorm2d(64, eps=1e-05, momentum=0.1, affine=True, track_running_stats=True)\n",
      "      (relu): ReLU()\n",
      "    )\n",
      "  )\n",
      "  (output): Sigmoid()\n",
      ")\n"
     ]
    }
   ],
   "source": [
    "model = DobyUNet(n_classes=1)\n",
    "print(model)"
   ]
  },
  {
   "cell_type": "code",
   "execution_count": 12,
   "id": "16bc9b6a-ce6f-4765-851f-9b8d6dac7009",
   "metadata": {},
   "outputs": [
    {
     "name": "stdout",
     "output_type": "stream",
     "text": [
      "----------------------------------------------------------------\n",
      "        Layer (type)               Output Shape         Param #\n",
      "================================================================\n",
      "            Conv2d-1         [-1, 64, 512, 512]           1,792\n",
      "       BatchNorm2d-2         [-1, 64, 512, 512]             128\n",
      "              ReLU-3         [-1, 64, 512, 512]               0\n",
      "            Conv2d-4         [-1, 64, 512, 512]          36,928\n",
      "       BatchNorm2d-5         [-1, 64, 512, 512]             128\n",
      "              ReLU-6         [-1, 64, 512, 512]               0\n",
      "         ConvBlock-7         [-1, 64, 512, 512]               0\n",
      "         MaxPool2d-8         [-1, 64, 256, 256]               0\n",
      "      EncoderBlock-9  [[-1, 64, 512, 512], [-1, 64, 256, 256]]               0\n",
      "           Conv2d-10        [-1, 128, 256, 256]          73,856\n",
      "      BatchNorm2d-11        [-1, 128, 256, 256]             256\n",
      "             ReLU-12        [-1, 128, 256, 256]               0\n",
      "           Conv2d-13        [-1, 128, 256, 256]         147,584\n",
      "      BatchNorm2d-14        [-1, 128, 256, 256]             256\n",
      "             ReLU-15        [-1, 128, 256, 256]               0\n",
      "        ConvBlock-16        [-1, 128, 256, 256]               0\n",
      "        MaxPool2d-17        [-1, 128, 128, 128]               0\n",
      "     EncoderBlock-18  [[-1, 128, 256, 256], [-1, 128, 128, 128]]               0\n",
      "           Conv2d-19        [-1, 256, 128, 128]         295,168\n",
      "      BatchNorm2d-20        [-1, 256, 128, 128]             512\n",
      "             ReLU-21        [-1, 256, 128, 128]               0\n",
      "           Conv2d-22        [-1, 256, 128, 128]         590,080\n",
      "      BatchNorm2d-23        [-1, 256, 128, 128]             512\n",
      "             ReLU-24        [-1, 256, 128, 128]               0\n",
      "        ConvBlock-25        [-1, 256, 128, 128]               0\n",
      "        MaxPool2d-26          [-1, 256, 64, 64]               0\n",
      "     EncoderBlock-27  [[-1, 256, 128, 128], [-1, 256, 64, 64]]               0\n",
      "           Conv2d-28          [-1, 512, 64, 64]       1,180,160\n",
      "      BatchNorm2d-29          [-1, 512, 64, 64]           1,024\n",
      "             ReLU-30          [-1, 512, 64, 64]               0\n",
      "           Conv2d-31          [-1, 512, 64, 64]       2,359,808\n",
      "      BatchNorm2d-32          [-1, 512, 64, 64]           1,024\n",
      "             ReLU-33          [-1, 512, 64, 64]               0\n",
      "        ConvBlock-34          [-1, 512, 64, 64]               0\n",
      "        MaxPool2d-35          [-1, 512, 32, 32]               0\n",
      "     EncoderBlock-36  [[-1, 512, 64, 64], [-1, 512, 32, 32]]               0\n",
      "           Conv2d-37         [-1, 1024, 32, 32]       4,719,616\n",
      "      BatchNorm2d-38         [-1, 1024, 32, 32]           2,048\n",
      "             ReLU-39         [-1, 1024, 32, 32]               0\n",
      "           Conv2d-40         [-1, 1024, 32, 32]       9,438,208\n",
      "      BatchNorm2d-41         [-1, 1024, 32, 32]           2,048\n",
      "             ReLU-42         [-1, 1024, 32, 32]               0\n",
      "        ConvBlock-43         [-1, 1024, 32, 32]               0\n",
      "  ConvTranspose2d-44          [-1, 512, 64, 64]       2,097,664\n",
      "           Conv2d-45          [-1, 512, 64, 64]       4,719,104\n",
      "      BatchNorm2d-46          [-1, 512, 64, 64]           1,024\n",
      "             ReLU-47          [-1, 512, 64, 64]               0\n",
      "           Conv2d-48          [-1, 512, 64, 64]       2,359,808\n",
      "      BatchNorm2d-49          [-1, 512, 64, 64]           1,024\n",
      "             ReLU-50          [-1, 512, 64, 64]               0\n",
      "        ConvBlock-51          [-1, 512, 64, 64]               0\n",
      "     DecoderBlock-52          [-1, 512, 64, 64]               0\n",
      "  ConvTranspose2d-53        [-1, 256, 128, 128]         524,544\n",
      "           Conv2d-54        [-1, 256, 128, 128]       1,179,904\n",
      "      BatchNorm2d-55        [-1, 256, 128, 128]             512\n",
      "             ReLU-56        [-1, 256, 128, 128]               0\n",
      "           Conv2d-57        [-1, 256, 128, 128]         590,080\n",
      "      BatchNorm2d-58        [-1, 256, 128, 128]             512\n",
      "             ReLU-59        [-1, 256, 128, 128]               0\n",
      "        ConvBlock-60        [-1, 256, 128, 128]               0\n",
      "     DecoderBlock-61        [-1, 256, 128, 128]               0\n",
      "  ConvTranspose2d-62        [-1, 128, 256, 256]         131,200\n",
      "           Conv2d-63        [-1, 128, 256, 256]         295,040\n",
      "      BatchNorm2d-64        [-1, 128, 256, 256]             256\n",
      "             ReLU-65        [-1, 128, 256, 256]               0\n",
      "           Conv2d-66        [-1, 128, 256, 256]         147,584\n",
      "      BatchNorm2d-67        [-1, 128, 256, 256]             256\n",
      "             ReLU-68        [-1, 128, 256, 256]               0\n",
      "        ConvBlock-69        [-1, 128, 256, 256]               0\n",
      "     DecoderBlock-70        [-1, 128, 256, 256]               0\n",
      "  ConvTranspose2d-71         [-1, 64, 512, 512]          32,832\n",
      "           Conv2d-72         [-1, 64, 512, 512]          73,792\n",
      "      BatchNorm2d-73         [-1, 64, 512, 512]             128\n",
      "             ReLU-74         [-1, 64, 512, 512]               0\n",
      "           Conv2d-75         [-1, 64, 512, 512]          36,928\n",
      "      BatchNorm2d-76         [-1, 64, 512, 512]             128\n",
      "             ReLU-77         [-1, 64, 512, 512]               0\n",
      "        ConvBlock-78         [-1, 64, 512, 512]               0\n",
      "     DecoderBlock-79         [-1, 64, 512, 512]               0\n",
      "          Sigmoid-80         [-1, 64, 512, 512]               0\n",
      "================================================================\n",
      "Total params: 31,043,456\n",
      "Trainable params: 31,043,456\n",
      "Non-trainable params: 0\n",
      "----------------------------------------------------------------\n",
      "Input size (MB): 3.00\n",
      "Forward/backward pass size (MB): 4084.00\n",
      "Params size (MB): 118.42\n",
      "Estimated Total Size (MB): 4205.42\n",
      "----------------------------------------------------------------\n"
     ]
    }
   ],
   "source": [
    "summary(model, (3, 512, 512))"
   ]
  },
  {
   "cell_type": "markdown",
   "id": "3dba39e5-223a-4714-8cbb-b2d910319db2",
   "metadata": {},
   "source": [
    "## <code>nn.ConvTranspose2d</code>에 대한 테스트\n",
    "$$output = (input - 1) * stride + kernel - 2 * padding$$\n"
   ]
  },
  {
   "cell_type": "code",
   "execution_count": 13,
   "id": "27f3a4fb-11e9-45cd-a7ed-8345c587e121",
   "metadata": {},
   "outputs": [],
   "source": [
    "class ConvTransposed2dSample(nn.Module):\n",
    "    def __init__(self):\n",
    "        super().__init__()\n",
    "        self.main = nn.ConvTranspose2d(32, 64, kernel_size=2, stride=2)\n",
    "\n",
    "    def forward(self, x):\n",
    "        x = self.main(x)\n",
    "        return x"
   ]
  },
  {
   "cell_type": "code",
   "execution_count": 14,
   "id": "552d4e6b-853d-4a67-9802-b0cfec5e2e96",
   "metadata": {},
   "outputs": [],
   "source": [
    "convTest = ConvTransposed2dSample()"
   ]
  },
  {
   "cell_type": "code",
   "execution_count": 15,
   "id": "76352eda-1e9b-4dd2-97fa-24a4cb620b3b",
   "metadata": {},
   "outputs": [
    {
     "name": "stdout",
     "output_type": "stream",
     "text": [
      "----------------------------------------------------------------\n",
      "        Layer (type)               Output Shape         Param #\n",
      "================================================================\n",
      "   ConvTranspose2d-1           [-1, 64, 48, 48]           8,256\n",
      "================================================================\n",
      "Total params: 8,256\n",
      "Trainable params: 8,256\n",
      "Non-trainable params: 0\n",
      "----------------------------------------------------------------\n",
      "Input size (MB): 0.07\n",
      "Forward/backward pass size (MB): 1.12\n",
      "Params size (MB): 0.03\n",
      "Estimated Total Size (MB): 1.23\n",
      "----------------------------------------------------------------\n"
     ]
    }
   ],
   "source": [
    "summary(convTest, (32, 24, 24))"
   ]
  }
 ],
 "metadata": {
  "kernelspec": {
   "display_name": "Python 3 (ipykernel)",
   "language": "python",
   "name": "python3"
  },
  "language_info": {
   "codemirror_mode": {
    "name": "ipython",
    "version": 3
   },
   "file_extension": ".py",
   "mimetype": "text/x-python",
   "name": "python",
   "nbconvert_exporter": "python",
   "pygments_lexer": "ipython3",
   "version": "3.10.9"
  }
 },
 "nbformat": 4,
 "nbformat_minor": 5
}
