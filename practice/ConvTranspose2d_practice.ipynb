{
 "cells": [
  {
   "cell_type": "code",
   "execution_count": 3,
   "id": "c6a7663c-131d-4754-9fd5-de9e3dacd04e",
   "metadata": {},
   "outputs": [],
   "source": [
    "import torch\n",
    "from torch import nn"
   ]
  },
  {
   "cell_type": "code",
   "execution_count": 12,
   "id": "b8d09e35-227d-4c9a-9c7b-a4c26bccc019",
   "metadata": {},
   "outputs": [],
   "source": [
    "m = nn.ConvTranspose2d(16, 32, 3, stride=3)"
   ]
  },
  {
   "cell_type": "code",
   "execution_count": 13,
   "id": "89238317-ca8d-4a65-9b0c-63c841119689",
   "metadata": {},
   "outputs": [],
   "source": [
    "input = torch.randn(16, 6, 6)"
   ]
  },
  {
   "cell_type": "code",
   "execution_count": 14,
   "id": "1d27e69c-82fa-408c-a3a9-466df900ae4d",
   "metadata": {},
   "outputs": [],
   "source": [
    "output = m(input)"
   ]
  },
  {
   "cell_type": "code",
   "execution_count": 15,
   "id": "68c140b8-303a-487e-b24a-9826c6d7e2e3",
   "metadata": {},
   "outputs": [
    {
     "data": {
      "text/plain": [
       "torch.Size([32, 18, 18])"
      ]
     },
     "execution_count": 15,
     "metadata": {},
     "output_type": "execute_result"
    }
   ],
   "source": [
    "output.size()"
   ]
  }
 ],
 "metadata": {
  "kernelspec": {
   "display_name": "Python 3 (ipykernel)",
   "language": "python",
   "name": "python3"
  },
  "language_info": {
   "codemirror_mode": {
    "name": "ipython",
    "version": 3
   },
   "file_extension": ".py",
   "mimetype": "text/x-python",
   "name": "python",
   "nbconvert_exporter": "python",
   "pygments_lexer": "ipython3",
   "version": "3.10.9"
  }
 },
 "nbformat": 4,
 "nbformat_minor": 5
}
